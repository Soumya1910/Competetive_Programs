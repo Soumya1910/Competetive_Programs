{
 "cells": [
  {
   "cell_type": "markdown",
   "metadata": {},
   "source": [
    "<b>Problem Statement :</b><br>\n",
    "Given a read only array of n + 1 integers between 1 and n, find one number that repeats in linear time using less than O(n) space and traversing the stream sequentially O(1) times. If there are multiple possible answers ( like in the sample case above ), output any one."
   ]
  },
  {
   "cell_type": "code",
   "execution_count": 1,
   "metadata": {},
   "outputs": [
    {
     "name": "stdout",
     "output_type": "stream",
     "text": [
      "4\n"
     ]
    }
   ],
   "source": [
    "class Solution:\n",
    "    # @param A : tuple of integers\n",
    "    # @return an integer\n",
    "    def repeatedNumber(self, A):\n",
    "        num_dict = {}\n",
    "        for num in A:\n",
    "            if num in num_dict.keys():\n",
    "                return num\n",
    "            else:\n",
    "                num_dict.update({num:1})\n",
    "        return -1\n",
    "    \n",
    "if __name__ == \"__main__\":\n",
    "    s = Solution()\n",
    "    print(s.repeatedNumber([3, 4, 1, 4, 1]))\n",
    "            \n"
   ]
  },
  {
   "cell_type": "code",
   "execution_count": null,
   "metadata": {},
   "outputs": [],
   "source": []
  }
 ],
 "metadata": {
  "kernelspec": {
   "display_name": "Python 3",
   "language": "python",
   "name": "python3"
  },
  "language_info": {
   "codemirror_mode": {
    "name": "ipython",
    "version": 3
   },
   "file_extension": ".py",
   "mimetype": "text/x-python",
   "name": "python",
   "nbconvert_exporter": "python",
   "pygments_lexer": "ipython3",
   "version": "3.6.9"
  }
 },
 "nbformat": 4,
 "nbformat_minor": 4
}
