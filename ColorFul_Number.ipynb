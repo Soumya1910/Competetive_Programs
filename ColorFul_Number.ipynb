{
 "cells": [
  {
   "cell_type": "markdown",
   "metadata": {},
   "source": [
    "## Check if given number is colorful or not\n",
    "\n",
    "A number can be broken into different contiguous sub-subsequence parts. \n",
    "Suppose, a number 3245 can be broken into parts like 3 2 4 5 32 24 45 324 245 3245. \n",
    "And this number is a COLORFUL number, since product of every digit of a contiguous subsequence is different.\n",
    "\n",
    "N = 23<br>\n",
    "2 3 23<br>\n",
    "2 -> 2<br>\n",
    "3 -> 3<br>\n",
    "23 -> 6<br>\n",
    "this number is a COLORFUL number since product of every digit of a sub-sequence are different. \n"
   ]
  },
  {
   "cell_type": "code",
   "execution_count": 44,
   "metadata": {},
   "outputs": [
    {
     "name": "stdout",
     "output_type": "stream",
     "text": [
      "['2', '4', '3', '24', '43', '243']\n",
      "2 \t False\n",
      "Prod :  2\n",
      "4 \t False\n",
      "Prod :  4\n",
      "3 \t False\n",
      "Prod :  3\n",
      "24 \t False\n",
      "Prod :  8\n",
      "43 \t False\n",
      "Prod :  12\n",
      "243 \t False\n",
      "Prod :  24\n",
      "0\n"
     ]
    }
   ],
   "source": [
    "import functools\n",
    "class Solution:\n",
    "    # @param A : integer\n",
    "    # @return an integer\n",
    "    def getProduct(self, num):\n",
    "        prod = functools.reduce(lambda a,b : int(a)*int(b), list(str(num)))\n",
    "        print('Prod : ',prod)\n",
    "        return prod\n",
    "        \n",
    "    def colorful(self, A):\n",
    "        string = str(A)\n",
    "        num_list = list(string)\n",
    "        count= 2\n",
    "        while(count<=len(string)):\n",
    "            for i in range(len(string) - count +1):\n",
    "                num_list.append(string[i:(i+count)])\n",
    "            count +=1\n",
    "            \n",
    "        print(num_list)\n",
    "        flag = False\n",
    "        for i in range(len(num_list)):\n",
    "            print(num_list[i],'\\t',flag)\n",
    "            if (str(self.getProduct(num_list[i]))) in (num_list[0:i]+num_list[i+1:len(num_list)]):\n",
    "                flag = True\n",
    "                break\n",
    "            \n",
    "        return 0 if flag else 1\n",
    "        \n",
    "        \n",
    "if __name__ == \"__main__\":\n",
    "    s = Solution()\n",
    "    A = 243\n",
    "    print(s.colorful(A))"
   ]
  },
  {
   "cell_type": "code",
   "execution_count": null,
   "metadata": {},
   "outputs": [],
   "source": []
  }
 ],
 "metadata": {
  "kernelspec": {
   "display_name": "Python 3",
   "language": "python",
   "name": "python3"
  },
  "language_info": {
   "codemirror_mode": {
    "name": "ipython",
    "version": 3
   },
   "file_extension": ".py",
   "mimetype": "text/x-python",
   "name": "python",
   "nbconvert_exporter": "python",
   "pygments_lexer": "ipython3",
   "version": "3.7.4"
  }
 },
 "nbformat": 4,
 "nbformat_minor": 2
}
