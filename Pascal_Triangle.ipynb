{
 "cells": [
  {
   "cell_type": "markdown",
   "metadata": {},
   "source": [
    "Given numRows, generate the first numRows of Pascal’s triangle.\n",
    "\n",
    "Pascal’s triangle : To generate A[C] in row R, sum up A’[C] and A’[C-1] from previous row R - 1.\n",
    "\n",
    "Example:\n",
    "\n",
    "Given numRows = 5,\n",
    "\n",
    "Return\n",
    "\n",
    "[\n",
    "     [1],\n",
    "     [1,1],\n",
    "     [1,2,1],\n",
    "     [1,3,3,1],\n",
    "     [1,4,6,4,1]\n",
    "]\n",
    "\n"
   ]
  },
  {
   "cell_type": "code",
   "execution_count": 4,
   "metadata": {},
   "outputs": [
    {
     "name": "stdout",
     "output_type": "stream",
     "text": [
      "[[1], [1, 1], [1, 2, 1], [1, 3, 3, 1], [1, 4, 6, 4, 1], [1, 5, 10, 10, 5, 1]]\n"
     ]
    }
   ],
   "source": [
    "class Solution:\n",
    "    # @param A : integer\n",
    "    # @return a list of list of integers\n",
    "    def solve(self, A):\n",
    "        start =1\n",
    "        return_list = []\n",
    "        for row in range(A):\n",
    "            if row==0:\n",
    "                individual = []\n",
    "                individual.append(start)\n",
    "            else:\n",
    "                individual = []\n",
    "                l = return_list[row-1]  #11,2,1\n",
    "                count=0\n",
    "                while(count<=len(l)):\n",
    "                  if count == 0 or count == len(l):\n",
    "                    individual.append(1)#1\n",
    "                  else:\n",
    "                    individual.insert(count, l[count-1]+l[count])#1,3\n",
    "                  count +=1\n",
    "     \n",
    "            return_list.append(individual)\n",
    "            # print(return_list)\n",
    "\n",
    "        return return_list\n",
    "\n",
    "if __name__ == \"__main__\":\n",
    "  s = Solution()\n",
    "  print(s.solve(6))"
   ]
  },
  {
   "cell_type": "code",
   "execution_count": null,
   "metadata": {},
   "outputs": [],
   "source": []
  }
 ],
 "metadata": {
  "kernelspec": {
   "display_name": "Python 3",
   "language": "python",
   "name": "python3"
  },
  "language_info": {
   "codemirror_mode": {
    "name": "ipython",
    "version": 3
   },
   "file_extension": ".py",
   "mimetype": "text/x-python",
   "name": "python",
   "nbconvert_exporter": "python",
   "pygments_lexer": "ipython3",
   "version": "3.6.9"
  }
 },
 "nbformat": 4,
 "nbformat_minor": 4
}
